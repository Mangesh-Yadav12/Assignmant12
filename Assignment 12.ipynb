{
 "cells": [
  {
   "cell_type": "markdown",
   "id": "23f1e51c",
   "metadata": {},
   "source": [
    "#### 1.In what modes should the PdfFileReader() and PdfFileWriter() File objects will be opened?\n",
    "\n",
    "Ans : These files will be opened in binary mode., read binary (rb) for PdfFileREader() and write binary (wb) PdfFileWriter()"
   ]
  },
  {
   "cell_type": "code",
   "execution_count": 1,
   "id": "c70848a4",
   "metadata": {},
   "outputs": [
    {
     "name": "stdout",
     "output_type": "stream",
     "text": [
      "Collecting PyPDF2\n",
      "  Downloading PyPDF2-2.10.4-py3-none-any.whl (214 kB)\n",
      "Requirement already satisfied: typing-extensions>=3.10.0.0 in c:\\users\\91952\\anaconda3\\lib\\site-packages (from PyPDF2) (4.1.1)\n",
      "Installing collected packages: PyPDF2\n",
      "Successfully installed PyPDF2-2.10.4\n"
     ]
    }
   ],
   "source": [
    "!pip install PyPDF2"
   ]
  },
  {
   "cell_type": "markdown",
   "id": "49b81f73",
   "metadata": {},
   "source": [
    "#### 2. From a PdfFileReader object, how do you get a Page object for page 5?\n",
    "\n",
    "Ans : Calling getPage(4) will return a Page object for page 5 since page 0 is the first page"
   ]
  },
  {
   "cell_type": "code",
   "execution_count": 3,
   "id": "16ccf37f",
   "metadata": {},
   "outputs": [
    {
     "data": {
      "text/plain": [
       "'Vestibulum congue vitae quam eu egestas. Donec cursus rutrum arcu, in pellentesque dui sollicitudin eget. Vivamus vitae eleifend ante, ac interdum dolor. Nunc rhoncus, erat sed fringilla placerat, tellus nunc auctor nibh, ut volutpat ante est ut eros. Vestibulum efficitur ipsum id maximus efficitur. Aliquam ac odio bibendum, tincidunt massa vel, vestibulum erat. Vivamus maximus, nisl nec sagittis fringilla, ex enim aliquet nisl, a viverra ipsum sapien at nisl. Nam eu ipsum in nisl facilisis vestibulum et at quam. Integer tempor ex hendrerit lorem lacinia, a malesuada odio condimentum. Proin elit sem, aliquam in libero eu, facilisis ultrices neque. Nunc ut diam at sapien posuere volutpat. Mauris dapibus semper lorem in imperdiet. Nulla facilisi. Donec eu nunc vestibulum, pretium justo a, egestas diam. Orci varius natoque penatibus et magnis dis parturient montes, nascetur ridiculus mus. Quisque vitae massa nibh. Donec placerat tempor odio, et consectetur libero rhoncus quis. Nam vehicula vehicula ipsum, in commodo massa lacinia nec. Quisque elit orci, bibendum ac eros et, placerat vulputate nibh. Cras id elit nec orci tincidunt rhoncus. Nullam finibus, urna sit amet aliquam iaculis, odio purus porta nisi, tempus dictum augue nisl a eros. Curabitur blandit ipsum in imperdiet consequat. Praesent ullamcorper erat tortor, at aliquam nulla fringilla vitae. Cras sodales, odio ac dapibus consectetur, ipsum mi ultrices neque, vel vestibulum purus eros aliquet risus. Vestibulum ac sagittis dui. Integer quis lectus egestas, sodales nunc eget, dignissim turpis. Nulla sodales ullamcorper imperdiet. Etiam dolor augue, ultrices sed felis id, ultricies facilisis ligula. Sed mollis lorem eu nisi malesuada, ac vulputate nisl laoreet. Phasellus ac orci mauris. Sed eu justo leo. Phasellus odio mi, efficitur et aliquet eu, tincidunt accumsan elit. Duis quis mauris aliquam, tincidunt libero sit amet, interdum lorem. Proin dapibus risus mi, in auctor lorem venenatis ut. Orci varius natoque penatibus et magnis dis parturient montes, nascetur ridiculus mus. Aenean ut tempus ex. Sed vitae posuere tortor. Sed sollicitudin bibendum nunc et commodo. Mauris et lectus vel elit semper tempor. Aenean ligula turpis, maximus sit amet fringilla sed, lobortis in dolor. Mauris vulputate tincidunt lacus convallis hendrerit. Integer id congue diam. Sed in consequat nisi. Ut luctus nibh ullamcorper sagittis pulvinar. Maecenas elementum, massa sed tincidunt fringilla, erat odio efficitur dui, eu blandit tellus sem vel dolor. Pellentesque rhoncus mi efficitur, vestibulum dolor vitae, sodales ipsum. Aliquam feugiat fermentum tortor ut varius. Proin non nulla nisi. Vivamus aliquet erat vitae tellus aliquet rutrum. Suspendisse ullamcorper cursus leo varius maximus. Nam eget elit ut massa sodales ornare eget at sapien. Phasellus magna turpis, sollicitudin sit amet dignissim et, viverra nec turpis. Sed ut nunc ac nibh elementum sollicitudin. Integer ut lacus tempor, elementum leo ac, bibendum lorem. Maecenas blandit eros nec diam mollis dapibus. Mauris in erat sed ante convallis consectetur ac vitae purus. Phasellus finibus tempor elementum. In gravida et urna non scelerisque. Aenean fermentum felis nec mauris bibendum, in congue felis mattis. Praesent semper molestie dolor eget bibendum. Pellentesque ut nisi sed eros iaculis euismod. Mauris lacinia rhoncus elit. Nulla id metus et eros rhoncus iaculis. Pellentesque massa augue, mollis eu dui eget, egestas ornare velit. Morbi ultrices mi a lacinia commodo. Pellentesque faucibus purus ante, id vehicula arcu tincidunt ac. Orci varius natoque penatibus et magnis dis parturient montes, nascetur ridiculus mus. Ut libero massa, auctor et tortor ut, lacinia semper massa. Etiam a tortor turpis. Donec bibendum ipsum in laoreet euismod. Donec nec lectus purus. Praesent a porttitor lectus. Etiam cursus, ipsum ut maximus tincidunt, risus velit mattis felis, sed sodales odio leo volutpat sapien. Etiam a faucibus nunc. Ut magna elit, cursus a posuere ac, lobortis in orci. Nulla facilisi. Sed sollicitudin dictum metus, vel dapibus magna accumsan ut. Nulla in laoreet velit. Lorem ipsum dolor sit amet, consectetur adipiscing elit. Morbi sit amet malesuada leo, non tincidunt augue. Curabitur venenatis bibendum rutrum. Vestibulum porta purus vel mattis dictum. Nam ac dictum justo. Mauris commodo, orci ut bibendum iaculis, elit nisi euismod leo, nec bibendum lectus lorem in purus. Mauris nec dictum mi, at dictum augue. Integer imperdiet sed nisi quis fermentum. Nullam libero justo, accumsan eget est a, rhoncus ornare ligula. Mauris bibendum tempus consequat. Curabitur semper quis leo nec viverra. Pellentesque mollis placerat tincidunt. Etiam id  '"
      ]
     },
     "execution_count": 3,
     "metadata": {},
     "output_type": "execute_result"
    }
   ],
   "source": [
    "import PyPDF2 as pdf\n",
    "pdfFileObj = open(\"sample-pdf-download-10-mb.pdf\",'rb')\n",
    "pdfReader = pdf.PdfFileReader(pdfFileObj)\n",
    "pageObj = pdfReader.getPage(4)\n",
    "pageObj.extractText()"
   ]
  },
  {
   "cell_type": "markdown",
   "id": "89d390a0",
   "metadata": {},
   "source": [
    "#### 3. What PdfFileReader variable stores the number of pages in the PDF document?\n",
    "\n"
   ]
  },
  {
   "cell_type": "code",
   "execution_count": 4,
   "id": "e9afb74d",
   "metadata": {},
   "outputs": [
    {
     "data": {
      "text/plain": [
       "12"
      ]
     },
     "execution_count": 4,
     "metadata": {},
     "output_type": "execute_result"
    }
   ],
   "source": [
    "import PyPDF2 as pdf\n",
    "pdfFileObj = open(\"sample-pdf-download-10-mb.pdf\",'rb')\n",
    "pdfReader = pdf.PdfFileReader(pdfFileObj)\n",
    "pdfReader.numPages"
   ]
  },
  {
   "cell_type": "markdown",
   "id": "54eb99f5",
   "metadata": {},
   "source": [
    "#### 4. If a PdfFileReader object’s PDF is encrypted with the password swordfish, what must you do before you can obtain Page objects from it?\n",
    "\n",
    "Ans. Before we obtain the page object, the pdf has to be decrypted by calling .decrypt('swordfish')"
   ]
  },
  {
   "cell_type": "markdown",
   "id": "b1e5a419",
   "metadata": {},
   "source": [
    "#### 5. What methods do you use to rotate a page?\n",
    "\n",
    "#pageObj.rotateClockwise(180)\n",
    "\n",
    "#The rotateClockwise() and rotateCounterClockwise() methods. The degrees to rotate is passed as an integer argument"
   ]
  },
  {
   "cell_type": "markdown",
   "id": "1ea96a60",
   "metadata": {},
   "source": [
    "#### 6. What is the difference between a Run object and a Paragraph object?\n",
    "\n",
    "Ans : Paragraph Object : A document contains multiple paragraphs. A paragraph begins on a new line and contains multiple runs. The Document object contains a list of Paragraph objects for the paragraphs in the document. (A new paragraph begins whenever the user presses ENTER or RETURN while typing in a Word document.)\n",
    "     Run Objects : Runs are contiguous groups of characters within a paragraph with the same style"
   ]
  },
  {
   "cell_type": "markdown",
   "id": "77c98473",
   "metadata": {},
   "source": [
    "#### 7. How do you obtain a list of Paragraph objects for a Document object that’s stored in a variable named doc?\n",
    "\n"
   ]
  },
  {
   "cell_type": "code",
   "execution_count": 8,
   "id": "58897884",
   "metadata": {},
   "outputs": [],
   "source": [
    "#!pip install python-docx\n",
    "#import docx\n",
    "#doc = docx.Document('abc.docx')\n",
    "#doc.paragraphs\n",
    "#By using doc.paragraphs"
   ]
  },
  {
   "cell_type": "markdown",
   "id": "5450c8fd",
   "metadata": {},
   "source": [
    "#### 8. What type of object has bold, underline, italic, strike, and outline variables?\n",
    "\n",
    "Ans. A Run object has bold, underline,italic,strike and outline variables"
   ]
  },
  {
   "cell_type": "markdown",
   "id": "72363447",
   "metadata": {},
   "source": [
    "#### 9. What is the difference between False, True, and None for the bold variable?\n",
    "\n",
    "Ans : Runs can be further styled using text attributes. Each attribute can be set to one of three values:\n",
    "\n",
    "True (the attribute is always enabled, no matter what other styles are applied to the run),\n",
    "\n",
    "False (the attribute is always disabled),\n",
    "\n",
    "None (defaults to whatever the run’s style is set to)\n",
    "\n",
    "True always makes the Run object bolded and False makes it always not bolded, no matter what the style’s bold setting is. None will make the Run object just use the style’s bold setting"
   ]
  },
  {
   "cell_type": "markdown",
   "id": "a032c8ac",
   "metadata": {},
   "source": [
    "#### 10. How do you create a Document object for a new Word document?\n",
    "\n",
    "Ans. By Calling the docx.Document() function."
   ]
  },
  {
   "cell_type": "markdown",
   "id": "7d7feb2b",
   "metadata": {},
   "source": [
    "#### 11. How do you add a paragraph with the text 'Hello, there!'' to a Document object stored in a variable named doc?"
   ]
  },
  {
   "cell_type": "code",
   "execution_count": 9,
   "id": "f0bbd015",
   "metadata": {},
   "outputs": [],
   "source": [
    "import docx\n",
    "doc = docx.Document()\n",
    "\n",
    "doc.add_paragraph('Hello there!')\n",
    "doc.save('hellothere.docx')"
   ]
  },
  {
   "cell_type": "markdown",
   "id": "98763cf5",
   "metadata": {},
   "source": [
    "#### 12. What integers represent the levels of headings available in Word documents?\n",
    "\n",
    "Ans : integer from 0 to 4\n",
    "\n",
    "The arguments to add_heading() are a string of the heading text and an integer from 0 to 4. The integer 0 makes the heading the Title style, which is used for the top of the document. Integers 1 to 4 are for various heading levels, with 1 being the main heading and 4 the lowest subheading\n"
   ]
  },
  {
   "cell_type": "code",
   "execution_count": null,
   "id": "a6c64025",
   "metadata": {},
   "outputs": [],
   "source": []
  }
 ],
 "metadata": {
  "kernelspec": {
   "display_name": "Python 3 (ipykernel)",
   "language": "python",
   "name": "python3"
  },
  "language_info": {
   "codemirror_mode": {
    "name": "ipython",
    "version": 3
   },
   "file_extension": ".py",
   "mimetype": "text/x-python",
   "name": "python",
   "nbconvert_exporter": "python",
   "pygments_lexer": "ipython3",
   "version": "3.9.12"
  }
 },
 "nbformat": 4,
 "nbformat_minor": 5
}
